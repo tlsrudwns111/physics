{
  "nbformat": 4,
  "nbformat_minor": 0,
  "metadata": {
    "colab": {
      "provenance": [],
      "authorship_tag": "ABX9TyPa4vuBlQW1snTLQUnmStns",
      "include_colab_link": true
    },
    "kernelspec": {
      "name": "python3",
      "display_name": "Python 3"
    },
    "language_info": {
      "name": "python"
    }
  },
  "cells": [
    {
      "cell_type": "markdown",
      "metadata": {
        "id": "view-in-github",
        "colab_type": "text"
      },
      "source": [
        "<a href=\"https://colab.research.google.com/github/tlsrudwns111/physics/blob/20250312/%EC%82%BC%EA%B0%81%ED%95%A8%EC%88%98.ipynb\" target=\"_parent\"><img src=\"https://colab.research.google.com/assets/colab-badge.svg\" alt=\"Open In Colab\"/></a>"
      ]
    },
    {
      "cell_type": "code",
      "execution_count": 1,
      "metadata": {
        "id": "er09HcZ9kvXw"
      },
      "outputs": [],
      "source": [
        "import math"
      ]
    },
    {
      "cell_type": "markdown",
      "source": [
        "호도법"
      ],
      "metadata": {
        "id": "F_mu2R6Dr3mS"
      }
    },
    {
      "cell_type": "code",
      "source": [
        "angel_degree = 30\n",
        "\n",
        "angel_radian = angel_degree * math.pi / 180\n",
        "\n",
        "print(\"angel_radian :\", angel_radian)"
      ],
      "metadata": {
        "colab": {
          "base_uri": "https://localhost:8080/"
        },
        "id": "DLdoemamrzor",
        "outputId": "94e572b6-e736-4fe1-e981-d4cbb47b288c"
      },
      "execution_count": 3,
      "outputs": [
        {
          "output_type": "stream",
          "name": "stdout",
          "text": [
            "angel_radian : 0.5235987755982988\n"
          ]
        }
      ]
    },
    {
      "cell_type": "code",
      "source": [
        "math.cos(angel_radian)"
      ],
      "metadata": {
        "colab": {
          "base_uri": "https://localhost:8080/"
        },
        "id": "m0cddkLUr5R8",
        "outputId": "83b507b4-cef7-4ade-8673-1785ae3aec60"
      },
      "execution_count": 5,
      "outputs": [
        {
          "output_type": "execute_result",
          "data": {
            "text/plain": [
              "0.8660254037844387"
            ]
          },
          "metadata": {},
          "execution_count": 5
        }
      ]
    },
    {
      "cell_type": "code",
      "source": [
        "math.sin(angel_radian)"
      ],
      "metadata": {
        "colab": {
          "base_uri": "https://localhost:8080/"
        },
        "id": "4Oy9sIptsHCj",
        "outputId": "7327ad59-562d-4ee5-dfb3-6ab7cd1eaf2a"
      },
      "execution_count": 6,
      "outputs": [
        {
          "output_type": "execute_result",
          "data": {
            "text/plain": [
              "0.49999999999999994"
            ]
          },
          "metadata": {},
          "execution_count": 6
        }
      ]
    },
    {
      "cell_type": "code",
      "source": [
        "math.tan(angel_radian)"
      ],
      "metadata": {
        "colab": {
          "base_uri": "https://localhost:8080/"
        },
        "id": "pSUPR2q6sWPL",
        "outputId": "15ecd3ec-72fa-43fa-f034-dcc14bc19c63"
      },
      "execution_count": 9,
      "outputs": [
        {
          "output_type": "execute_result",
          "data": {
            "text/plain": [
              "0.5773502691896257"
            ]
          },
          "metadata": {},
          "execution_count": 9
        }
      ]
    },
    {
      "cell_type": "markdown",
      "source": [
        "직교 좌표를 극좌표로 변환"
      ],
      "metadata": {
        "id": "u4PobtHNsnNH"
      }
    },
    {
      "cell_type": "code",
      "source": [
        "x, y = 1.0, 2.0"
      ],
      "metadata": {
        "id": "S3Xrkkyuso3H"
      },
      "execution_count": 18,
      "outputs": []
    },
    {
      "cell_type": "code",
      "source": [
        "r = math.sqrt(x**2 + y**2)\n",
        "theta_radian = math.atan2(y,x)\n",
        "\n",
        "print(r, theta_radian)"
      ],
      "metadata": {
        "colab": {
          "base_uri": "https://localhost:8080/"
        },
        "id": "l2P-xnl5szlm",
        "outputId": "01ae7de4-261d-4b8c-f98b-76ddc89bb0b1"
      },
      "execution_count": 19,
      "outputs": [
        {
          "output_type": "stream",
          "name": "stdout",
          "text": [
            "2.23606797749979 1.1071487177940904\n"
          ]
        }
      ]
    },
    {
      "cell_type": "code",
      "source": [
        "r, angle = 10, 30"
      ],
      "metadata": {
        "id": "_hv_Rf_8uN00"
      },
      "execution_count": 20,
      "outputs": []
    },
    {
      "cell_type": "code",
      "source": [
        "theta_radian = math.radians(angle)\n",
        "\n",
        "x = r * math.cos(theta_radian)\n",
        "y = r * math.sin(theta_radian)\n",
        "\n",
        "print(x, y)"
      ],
      "metadata": {
        "colab": {
          "base_uri": "https://localhost:8080/"
        },
        "id": "R74DA4AGuQ7Q",
        "outputId": "f8b9ab98-0324-4d04-f846-b1ceed39b449"
      },
      "execution_count": 21,
      "outputs": [
        {
          "output_type": "stream",
          "name": "stdout",
          "text": [
            "8.660254037844387 4.999999999999999\n"
          ]
        }
      ]
    },
    {
      "cell_type": "markdown",
      "source": [],
      "metadata": {
        "id": "aaPKAUpQr4xJ"
      }
    }
  ]
}