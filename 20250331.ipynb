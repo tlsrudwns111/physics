{
  "nbformat": 4,
  "nbformat_minor": 0,
  "metadata": {
    "colab": {
      "provenance": [],
      "authorship_tag": "ABX9TyOPJ6YZ1kEaCQJsP4M/POCr",
      "include_colab_link": true
    },
    "kernelspec": {
      "name": "python3",
      "display_name": "Python 3"
    },
    "language_info": {
      "name": "python"
    }
  },
  "cells": [
    {
      "cell_type": "markdown",
      "metadata": {
        "id": "view-in-github",
        "colab_type": "text"
      },
      "source": [
        "<a href=\"https://colab.research.google.com/github/tlsrudwns111/physics/blob/20250331/20250331.ipynb\" target=\"_parent\"><img src=\"https://colab.research.google.com/assets/colab-badge.svg\" alt=\"Open In Colab\"/></a>"
      ]
    },
    {
      "cell_type": "code",
      "execution_count": 1,
      "metadata": {
        "colab": {
          "base_uri": "https://localhost:8080/"
        },
        "id": "gT9xH7SlQs6C",
        "outputId": "f41e3548-d866-41be-90a9-09814a30e9b5"
      },
      "outputs": [
        {
          "output_type": "stream",
          "name": "stdout",
          "text": [
            "첫 번째 벡터의 x 성분을 입력하세요: 123\n",
            "첫 번째 벡터의 y 성분을 입력하세요: 123\n",
            "두 번째 벡터의 x 성분을 입력하세요: 123\n",
            "두 번째 벡터의 y 성분을 입력하세요: 23124\n",
            "\n",
            "벡터 1: 123.0 i + 123.0 j\n",
            "벡터 2: 123.0 i + 23124.0 j\n",
            "\n",
            "벡터의 합: 246.0 i + 23247.0 j\n",
            "벡터의 내적: 2859381.0\n",
            "벡터의 외적: 2829123.0\n"
          ]
        }
      ],
      "source": [
        "x1 = float(input(\"첫 번째 벡터의 x 성분을 입력하세요: \"))\n",
        "y1 = float(input(\"첫 번째 벡터의 y 성분을 입력하세요: \"))\n",
        "\n",
        "x2 = float(input(\"두 번째 벡터의 x 성분을 입력하세요: \"))\n",
        "y2 = float(input(\"두 번째 벡터의 y 성분을 입력하세요: \"))\n",
        "\n",
        "sum_x = x1 + x2\n",
        "sum_y = y1 + y2\n",
        "\n",
        "dot_product = x1 * x2 + y1 * y2\n",
        "\n",
        "cross_product = x1 * y2 - y1 * x2\n",
        "\n",
        "print(\"\\n벡터 1:\", x1, \"i +\", y1, \"j\")\n",
        "print(\"벡터 2:\", x2, \"i +\", y2, \"j\")\n",
        "\n",
        "print(\"\\n벡터의 합:\", sum_x, \"i +\", sum_y, \"j\")\n",
        "print(\"벡터의 내적:\", dot_product)\n",
        "print(\"벡터의 외적:\", cross_product)1"
      ]
    },
    {
      "cell_type": "code",
      "source": [
        "x1 = float(input(\"첫 번째 벡터의 x 성분을 입력하세요: \"))\n",
        "y1 = float(input(\"첫 번째 벡터의 y 성분을 입력하세요: \"))\n",
        "z1 = float(input(\"첫 번째 벡터의 z 성분을 입력하세요: \"))\n",
        "\n",
        "x2 = float(input(\"두 번째 벡터의 x 성분을 입력하세요: \"))\n",
        "y2 = float(input(\"두 번째 벡터의 y 성분을 입력하세요: \"))\n",
        "z2 = float(input(\"두 번째 벡터의 z 성분을 입력하세요: \"))\n",
        "\n",
        "sum_x = x1 + x2\n",
        "sum_y = y1 + y2\n",
        "sum_z = z1 + z2\n",
        "\n",
        "dot_product = x1 * x2 + y1 * y2 + z1 * z2\n",
        "\n",
        "cross_product_x = y1 * z2 - z1 * y2\n",
        "cross_product_y = z1 * x2 - x1 * z2\n",
        "cross_product_z = x1 * y2 - y1 * x2\n",
        "\n",
        "print(\"\\n벡터 1:\", x1, \"i +\", y1, \"j +\", z1, \"k\")\n",
        "print(\"벡터 2:\", x2, \"i +\", y2, \"j +\", z2, \"k\")\n",
        "\n",
        "print(\"\\n벡터의 합:\", sum_x, \"i +\", sum_y, \"j +\", sum_z, \"k\")\n",
        "print(\"벡터의 내적:\", dot_product)\n",
        "print(\"벡터의 외적:\", cross_product_x, \"i +\", cross_product_y, \"j +\", cross_product_z, \"k\")"
      ],
      "metadata": {
        "colab": {
          "base_uri": "https://localhost:8080/"
        },
        "id": "-aa6ijBFVsb7",
        "outputId": "7f20903a-9669-4d2c-c40e-fe4b09445e1f"
      },
      "execution_count": 3,
      "outputs": [
        {
          "output_type": "stream",
          "name": "stdout",
          "text": [
            "첫 번째 벡터의 x 성분을 입력하세요: 234\n",
            "첫 번째 벡터의 y 성분을 입력하세요: 67\n",
            "첫 번째 벡터의 z 성분을 입력하세요: 4\n",
            "두 번째 벡터의 x 성분을 입력하세요: 78\n",
            "두 번째 벡터의 y 성분을 입력하세요: 234\n",
            "두 번째 벡터의 z 성분을 입력하세요: 78\n",
            "\n",
            "벡터 1: 234.0 i + 67.0 j + 4.0 k\n",
            "벡터 2: 78.0 i + 234.0 j + 78.0 k\n",
            "\n",
            "벡터의 합: 312.0 i + 301.0 j + 82.0 k\n",
            "벡터의 내적: 34242.0\n",
            "벡터의 외적: 4290.0 i + -17940.0 j + 49530.0 k\n"
          ]
        }
      ]
    }
  ]
}